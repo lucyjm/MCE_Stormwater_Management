{
  "nbformat": 4,
  "nbformat_minor": 0,
  "metadata": {
    "colab": {
      "name": "MCE_Stormwater_Management_DC",
      "provenance": [],
      "collapsed_sections": []
    },
    "kernelspec": {
      "name": "python3",
      "display_name": "Python 3"
    }
  },
  "cells": [
    {
      "cell_type": "markdown",
      "metadata": {
        "id": "eYLsY1Gzd_oz",
        "colab_type": "text"
      },
      "source": [
        "# A GIS-based framework that identifies priority areas for stormwater management near MS4 sewer sites in Washington, DC.\n",
        "By Jonathan Kvilhaug and Lucy Meyer\n",
        "\n",
        "Version 1.1 (December 2019)\n",
        "\n",
        "---------------------------------------------------------------------------------------------------------\n",
        "\n",
        "## Objective: \n",
        "\n",
        "The pollution of urban rivers in Washington DC is classifiable by two distinct sources and their corresponding infrastructure. DC, like many urban areas, has a large share of impervious surfaces which prevent the infiltration of rainwater during storms. As a consequence, large volumes of rainwater have the ability to accumulate during and after storms which overwhelms existing infrastructure and results in the release of mixed excess stormwater and raw sewage to the Potomac River and its tributaries. The objective of this study is to develop a simplified tool that identifies water pollution severity at sewer outflow sites. The model will assess sewer outflow points across DC and provide a weighted multi-criteria analysis of at-risk areas based on watershed, sewershed, and vulnerable communities. Moreover, this analysis is aggragated at the Census Tract scale.\n",
        "\n",
        "---------------------------------------------------------------------------------------------------------\n"
      ]
    },
    {
      "cell_type": "markdown",
      "metadata": {
        "id": "w3QiFg14gllj",
        "colab_type": "text"
      },
      "source": [
        "## A. Data Collection\n",
        "\n",
        "### 1. Analysis Data for Multi-Criteria Evaluation (MCE)\n",
        "- The *Washington DC 2010 Census Tract* shapefile [^1] will be used as the primary geography for this study. Utilization of median income by census tract attribute in a MCE and in classifying symbology for display. Additional demographic data is included.\n",
        "\n",
        "- The *Wards of Washington DC* [^2] will be utilized to classify census tracts by their larger municipal groupings, an effective approximate for socio-economic needs. \n",
        "\n",
        "- The *Watersheds of Washington DC* are an important evaluative criteria to prioritize intervention in Census Tracts of the MS4. [^3]\n",
        "\n",
        "- The *Best Management Practices* indicate green infrastructure projects that work to reduce the volume of stormwater runoff that accumulate in the urban landscape. [^4]\n",
        "\n",
        "### 2. Supplementary Data for Cartographical Analysis\n",
        "\n",
        "- Geographic data on the extent of *Municipal Separate Storm Sewer Systems* (MS4) [^5] and *Combined Sewer Systems* (CSS) [^6] show the existing stormwater infrastructure and where green infrastructure should be utilized. The CSS shapefile will be used to produce final maps, thus, is for display purposes only.\n",
        "\n",
        "- The following shapefiles are incorporated for display purposes only to better contextualize later visualizations. The *Municipal boundary of Washington DC* [^7]; the *Waterbodies of the District of Columbia* [^8]; and the *National Parks of the District of Columbia* [^9]. \n",
        "\n",
        "***\n",
        "[^1]: (Source: 2010 Census Tract, US Census Bureau, Open Data DC)\n",
        "\n",
        "[^2]: (Source: Wards from 2012, DC Office of Planning, Open Data DC)\n",
        "\n",
        "[^3]: (Source: Watersheds clipped to DC, DC DOEE, Open Data DC)\n",
        "\n",
        "[^4]: (Source: Best Management Practices, DC DOEE, Open Data DC)\n",
        "\n",
        "[^5]: (Source: MS4 Sewer Shed, DC DOEE, Open Data DC)\n",
        "\n",
        "[^6]: (Source: CSS Sewer Boundary, DC DOEE, Open Data DC)\n",
        "\n",
        "[^7]: (Source: Washington DC Boundary, DC Office of Planning, Open Data DC)\n",
        "\n",
        "[^8]: (Source: Waterbodies, DC DOEE, Open Data DC\n",
        "\n",
        "[^9]: (Source: National Parks, National Parks Service, Open Data DC)\n",
        "\n",
        "***"
      ]
    },
    {
      "cell_type": "code",
      "metadata": {
        "id": "1GkyzD36hqGI",
        "colab_type": "code",
        "colab": {}
      },
      "source": [
        "# Import modules\n",
        "import geopandas as gpd\n",
        "import pandas as pd\n",
        "%matplotlib inline"
      ],
      "execution_count": 0,
      "outputs": []
    },
    {
      "cell_type": "code",
      "metadata": {
        "id": "iDontqfUuMWl",
        "colab_type": "code",
        "colab": {}
      },
      "source": [
        "# Set path\n",
        "# Path changes - make sure you have a file folder with all the data or import will not work\n",
        "path = '/Users/LucyMeyer/Desktop/Programming/Proj_data/' # Set path to your own folder"
      ],
      "execution_count": 0,
      "outputs": []
    },
    {
      "cell_type": "code",
      "metadata": {
        "id": "t1NaM8Vuh3du",
        "colab_type": "code",
        "colab": {}
      },
      "source": [
        "# Import raw analysis data\n",
        "BMP = path +'BMP/' # Point\n",
        "Ward = path + 'Ward_from_2012/' # Polgyon\n",
        "Census = path + 'Census_Tracts_by_Median_Income__2000/' # Polygon\n",
        "Watershed = path + 'Watersheds_Clipped_to_DC/' # Polygon"
      ],
      "execution_count": 0,
      "outputs": []
    },
    {
      "cell_type": "markdown",
      "metadata": {
        "id": "dOsdSclCwpMT",
        "colab_type": "text"
      },
      "source": [
        "## B. Data Cleansing\n",
        "This section organizes the raw data by removing columns with redudant information."
      ]
    },
    {
      "cell_type": "markdown",
      "metadata": {
        "id": "IkGz2NWGn8Ty",
        "colab_type": "text"
      },
      "source": [
        "### 1. Ward"
      ]
    },
    {
      "cell_type": "code",
      "metadata": {
        "id": "eFgVifVauHgR",
        "colab_type": "code",
        "colab": {}
      },
      "source": [
        "# Read data\n",
        "Ward = gpd.read_file(Ward)\n",
        "# Ward.head()"
      ],
      "execution_count": 0,
      "outputs": []
    },
    {
      "cell_type": "code",
      "metadata": {
        "id": "_d7mB0I3vjq9",
        "colab_type": "code",
        "colab": {}
      },
      "source": [
        "# Create new variable only including sorted columns for Ward\n",
        "Ward1 = Ward.iloc[:,[1,14,48,49,70,82]] #iloc is columns you want to keep\n",
        "# Ward1.head() # Confirm that data is correct \n",
        "# Ward1.info() "
      ],
      "execution_count": 0,
      "outputs": []
    },
    {
      "cell_type": "markdown",
      "metadata": {
        "id": "v3OjqxwxoJuM",
        "colab_type": "text"
      },
      "source": [
        "### 2. BMP\n"
      ]
    },
    {
      "cell_type": "code",
      "metadata": {
        "id": "QsSAxtNIvxHG",
        "colab_type": "code",
        "colab": {}
      },
      "source": [
        "# Read data\n",
        "BMP1 = gpd.read_file(BMP)\n",
        "BMP1.head()\n",
        "# BMP1.info()"
      ],
      "execution_count": 0,
      "outputs": []
    },
    {
      "cell_type": "code",
      "metadata": {
        "id": "M2DtTtzQv4vT",
        "colab_type": "code",
        "colab": {}
      },
      "source": [
        "# Create new variable only including sorted columns for BMP\n",
        "BMP2 = BMP1.iloc[:,[4,7,18,19,23,43,46,49]] \n",
        "# BMP2.head() # Confirm that data is correct\n",
        "# BMP1.info()"
      ],
      "execution_count": 0,
      "outputs": []
    },
    {
      "cell_type": "markdown",
      "metadata": {
        "id": "uBLa_oa8oXqN",
        "colab_type": "text"
      },
      "source": [
        "### 3. Watershed"
      ]
    },
    {
      "cell_type": "code",
      "metadata": {
        "id": "0tNaunbi-NP7",
        "colab_type": "code",
        "colab": {}
      },
      "source": [
        "# Read data\n",
        "Watershed = gpd.read_file(Watershed)\n",
        "# Watershed.head()"
      ],
      "execution_count": 0,
      "outputs": []
    },
    {
      "cell_type": "code",
      "metadata": {
        "id": "UFccfdnpocvx",
        "colab_type": "code",
        "colab": {}
      },
      "source": [
        "# Create new variable only including sorted columns for watershed\n",
        "Watershed1 = Watershed.iloc[:,[1,4]]\n",
        "# Watershed1.head() # Confirm that data is correct \n",
        "# Watershed.info()"
      ],
      "execution_count": 0,
      "outputs": []
    },
    {
      "cell_type": "markdown",
      "metadata": {
        "id": "kDZcT2SNo4p7",
        "colab_type": "text"
      },
      "source": [
        "### 4. Census"
      ]
    },
    {
      "cell_type": "code",
      "metadata": {
        "id": "-yy2yl0doydP",
        "colab_type": "code",
        "colab": {}
      },
      "source": [
        "# Clean Census data \n",
        "Census = gpd.read_file(Census)\n",
        "# Census.head()"
      ],
      "execution_count": 0,
      "outputs": []
    },
    {
      "cell_type": "code",
      "metadata": {
        "id": "r8Xm9_vjo2O7",
        "colab_type": "code",
        "colab": {}
      },
      "source": [
        "# Create new variable only including sorted columns for BMP\n",
        "Census1 = Census.iloc[:,[6,7,8,25,26,27,28,29,30,31,53,59,60]]\n",
        "# Census1.head() # Confirm that data is correct\n",
        "# Census1.info()"
      ],
      "execution_count": 0,
      "outputs": []
    },
    {
      "cell_type": "markdown",
      "metadata": {
        "id": "j2ToLdFc-4pg",
        "colab_type": "text"
      },
      "source": [
        "## C. Spatial Joins\n",
        "Here, spatial joins are performed between datafiles. More data cleansing occurs to remove and rename columns."
      ]
    },
    {
      "cell_type": "markdown",
      "metadata": {
        "id": "-_WsfSMCpDvT",
        "colab_type": "text"
      },
      "source": [
        "### 1. Join watershed to census\n",
        "Join based on geometry (spatial location)."
      ]
    },
    {
      "cell_type": "code",
      "metadata": {
        "id": "bUKfCIRl-2vN",
        "colab_type": "code",
        "colab": {}
      },
      "source": [
        "# Only retain geometry of right index aka census\n",
        "Census_join = gpd.sjoin(Watershed1, Census1, how = \"right\", op = \"intersects\")\n",
        "Census_join.head() # Make sure join worked correctly -- remove index_left"
      ],
      "execution_count": 0,
      "outputs": []
    },
    {
      "cell_type": "code",
      "metadata": {
        "id": "mj6rliRIpLUk",
        "colab_type": "code",
        "colab": {}
      },
      "source": [
        "# Drop redundant columns\n",
        "Census_join = Census_join.drop(['index_left'], axis = 1)"
      ],
      "execution_count": 0,
      "outputs": []
    },
    {
      "cell_type": "code",
      "metadata": {
        "id": "0jSjdbMcpNza",
        "colab_type": "code",
        "colab": {}
      },
      "source": [
        "# rename joined columns\n",
        "Census_join.rename(columns = {'NAME_x':'Watershed', 'NAME_y':'Tract Name'}, inplace = True) \n",
        "Census_join.head()\n",
        "# Census_join.to_file(\"Census_join.shp\") # Export to make sure attribute data is correct"
      ],
      "execution_count": 0,
      "outputs": []
    },
    {
      "cell_type": "markdown",
      "metadata": {
        "id": "qOZa9egLpJlU",
        "colab_type": "text"
      },
      "source": [
        "### 2. Join ward to joined watershed-census data\n",
        "Join based on geometry (spatial location)."
      ]
    },
    {
      "cell_type": "code",
      "metadata": {
        "id": "zyi_yURGpReX",
        "colab_type": "code",
        "colab": {}
      },
      "source": [
        "# Only retain geometry of right index aka census\n",
        "Census_join1 = gpd.sjoin(Ward1, Census_join, how = \"right\", op = \"intersects\")\n",
        "Census_join1.head() # Make sure join worked correctly"
      ],
      "execution_count": 0,
      "outputs": []
    },
    {
      "cell_type": "code",
      "metadata": {
        "id": "adjGkancpT-C",
        "colab_type": "code",
        "colab": {}
      },
      "source": [
        "# drop redundant columns\n",
        "Census_join2 = Census_join1.drop(['index_left'], axis=1)\n",
        "Census_join2.head()\n",
        "# Census_join2.to_file(\"Census_join2.shp\") # Export to make sure attribute data is correct"
      ],
      "execution_count": 0,
      "outputs": []
    },
    {
      "cell_type": "markdown",
      "metadata": {
        "id": "54Vuqx_zpVrJ",
        "colab_type": "text"
      },
      "source": [
        "### 3. Join BMP to joined ward-watershed-census data\n",
        "Join based on geometry (spatial location), then performs attribute join recieve count of BMPs per Tract (for future analysis)."
      ]
    },
    {
      "cell_type": "code",
      "metadata": {
        "id": "gUtR4GSHpWPq",
        "colab_type": "code",
        "colab": {}
      },
      "source": [
        "# Copy column for Tract Name because it gets deleted when join is performed\n",
        "Census_join2[\"Tract_Name_Copy\"] = Census_join2[\"Tract Name\"]\n",
        "Census_join2.head()"
      ],
      "execution_count": 0,
      "outputs": []
    },
    {
      "cell_type": "code",
      "metadata": {
        "id": "6AsopddLpYal",
        "colab_type": "code",
        "colab": {}
      },
      "source": [
        "# Perform join between BMP and joined census data\n",
        "Census_join3 = gpd.sjoin(BMP2, Census_join2, how = \"right\", op = \"within\")\n",
        "Census_join3.head()\n",
        "# Census_BMP.to_file(\"Census_BMP.shp\") #Export shp to double check that join is correct"
      ],
      "execution_count": 0,
      "outputs": []
    },
    {
      "cell_type": "code",
      "metadata": {
        "id": "V4YN67KupZ2H",
        "colab_type": "code",
        "colab": {}
      },
      "source": [
        "# drop redundant columns\n",
        "Census_join4 = Census_join3.drop(['WARD_y', 'index_left'], axis=1)\n",
        "Census_join4.head()\n",
        "\n",
        "# rename columns\n",
        "Census_join4.rename(columns = {'WARD_x':'WARD', 'Tract_Name_Copy':'TRACT_NAME'}, inplace = True) \n",
        "Census_join4.head()"
      ],
      "execution_count": 0,
      "outputs": []
    },
    {
      "cell_type": "code",
      "metadata": {
        "id": "SvJkZ3lapbQ4",
        "colab_type": "code",
        "colab": {}
      },
      "source": [
        "# Generate BMP count per census tract\n",
        "grouped = Census_join4.groupby(\"TRACT_NAME\").size()\n",
        "Census_join5 = grouped.to_frame().reset_index()\n",
        "Census_join5.columns = [\"TRACT_NAME\",'BMP Count']\n",
        "Census_join5.head()"
      ],
      "execution_count": 0,
      "outputs": []
    },
    {
      "cell_type": "code",
      "metadata": {
        "id": "bacq6VPSpcaA",
        "colab_type": "code",
        "colab": {}
      },
      "source": [
        "# Perform attribute join\n",
        "Census_join6 = Census_join4.merge(Census_join5, on='TRACT_NAME')\n",
        "Census_join6.head()\n",
        "# Census_join6.to_file('Census_join6.shp')"
      ],
      "execution_count": 0,
      "outputs": []
    },
    {
      "cell_type": "markdown",
      "metadata": {
        "id": "7HtKUd3HqgNN",
        "colab_type": "text"
      },
      "source": [
        "## D. Multi-Criteria Evaluation\n",
        "\n",
        "The objective of this analysis is to identify the census tracts that are best suited for green infrastructure intervention based on the geographic ecological, social, and economic conditions.\n",
        "\n",
        "1. The first significant evaluation is to determine whether a census tract has an outflow site (MS4) located within its geography, resulting in a binary score (0, 1).\n",
        "2. The second evaluation is to evaluate the contributing watershed, prioritizing intervention in the historically polluted and smaller watersheds first. (Anacostia 1; Rock Creek .75; Potomac .5)\n",
        "3. The third evaluation is by the political geography of Washington DC by its Municipal Wards. (Ward 8 = 1.0; Ward 7 = 1.0; Ward 5 = .8; Ward 4 = .6; Ward 3 = .4)"
      ]
    },
    {
      "cell_type": "code",
      "metadata": {
        "id": "3m-1pTV68Tfj",
        "colab_type": "code",
        "colab": {}
      },
      "source": [
        "Census_tract1 = Census_join6"
      ],
      "execution_count": 0,
      "outputs": []
    },
    {
      "cell_type": "code",
      "metadata": {
        "id": "ID2jkgTzpi_K",
        "colab_type": "code",
        "colab": {}
      },
      "source": [
        "# Census_tract1.info()\n",
        "# WARD is an object so must convert to float\n",
        "Census_tract1['WARD'].astype(str)"
      ],
      "execution_count": 0,
      "outputs": []
    },
    {
      "cell_type": "code",
      "metadata": {
        "id": "ze41rXgfplL5",
        "colab_type": "code",
        "colab": {}
      },
      "source": [
        "# Function for MCE\n",
        "def MCE():\n",
        "\n",
        "    MCE = Census_tract1\n",
        "    \n",
        "    def BMP_filter(sewershed):\n",
        "        if (sewershed[\"SEWERSHED\"]==\"MS4\"):\n",
        "            return 1.0\n",
        "        else:\n",
        "            return 0.0\n",
        "\n",
        "    def Watershed_filter(watershed):\n",
        "        if (watershed[\"Watershed\"]==\"Anacostia River\"):\n",
        "            return 1.0\n",
        "        if (watershed[\"Watershed\"]==\"Rock Creek\"):\n",
        "            return .75\n",
        "        if (watershed[\"Watershed\"]==\"Potomac River\"):\n",
        "            return .5\n",
        "        else:\n",
        "            return 0\n",
        "    \n",
        "    def Ward_filter(ward):\n",
        "        if (ward[\"WARD\"]==\"7\"):\n",
        "            return 1.0\n",
        "        if (ward[\"WARD\"]==\"8\"):\n",
        "            return 1.0\n",
        "        if (ward[\"WARD\"]==\"5\"):\n",
        "            return .8\n",
        "        if (ward[\"WARD\"]==\"4\"):\n",
        "            return .6\n",
        "        if (ward[\"WARD\"]==\"3\"):\n",
        "            return .4\n",
        "        else: \n",
        "            return 0.0\n",
        "        \n",
        "    # Create new column applying filter functions\n",
        "    MCE['BMP_SCORE'] = MCE.apply(BMP_filter, axis=1)\n",
        "    MCE['WATERSHED_SCORE'] = MCE.apply(Watershed_filter, axis=1)\n",
        "    MCE['WARD_SCORE'] = MCE.apply(Ward_filter, axis=1)\n",
        "    \n",
        "    def MCE_sum(row):\n",
        "        return row['BMP_SCORE'] + row['WATERSHED_SCORE'] + row['WARD_SCORE']\n",
        "    \n",
        "    MCE['MCE_SCORE_SUM'] = MCE.apply(MCE_sum, axis=1)\n",
        "    \n",
        "    def MCE_score(row):\n",
        "        return row['MCE_SCORE_SUM'] / 3 # 3 is the total number of scores\n",
        "    \n",
        "    MCE['MCE_ACTUAL_SCORE'] = MCE.apply(MCE_score, axis=1)\n",
        " \n",
        "    return MCE"
      ],
      "execution_count": 0,
      "outputs": []
    },
    {
      "cell_type": "code",
      "metadata": {
        "id": "13TJPtaEpqWy",
        "colab_type": "code",
        "colab": {}
      },
      "source": [
        "# Export MCE to file and visualize using mapping software\n",
        "MCE = MCE()\n",
        "MCE.to_file('MCE.shp')"
      ],
      "execution_count": 0,
      "outputs": []
    },
    {
      "cell_type": "markdown",
      "metadata": {
        "id": "O4lNHN4mufP_",
        "colab_type": "text"
      },
      "source": [
        "##E. Data Visualization\n",
        "### *1. Visualizing Existing Stormwater Infrastructure in Washington DC*\n",
        "Display the Washington DC political boundary, then overlay the Combined Sewer System (CSS), followed by the Municipal Separate Storm Sewer System (MS4) overlayed above that, and finally the extent of DC Parks. The subsequent display demonstrates the relevant geography within Washington DC where Green Infrastructure projects should be implemented. Namely, within the extent of the city with MS4 infrastructure that is within the built environment rather than park space. "
      ]
    },
    {
      "cell_type": "markdown",
      "metadata": {
        "id": "cVDrFlHvh4NP",
        "colab_type": "text"
      },
      "source": [
        "![Existing Stormwater Infrastructure in Washington DC](https://drive.google.com/uc?id=1COB9vTVBWpTwL69JXMHpfzz6n9mcadMV)"
      ]
    },
    {
      "cell_type": "markdown",
      "metadata": {
        "id": "1vcbt0HIjFtj",
        "colab_type": "text"
      },
      "source": [
        "### *2. Visualizing Watersheds to support targetted intervention*\n",
        "Urban runoff throughout Washington DC has an outsized impact on both the Anacostia River and Rock Creek. Therefore it is critical to visualize the contributing watershed to the city's MS4 Outflow sites in order to prioritize the placement of Green Infrastructure. \n",
        "\n",
        "Display the Washington DC political boundary, then overlay the watersheds clipped to Washington DC, additionally display the CSS extent in order to mask the watershed where its runoff does not contribute to nutrient pollution, finally overlay the point source locations of MS4 outfalls within Washington DC. "
      ]
    },
    {
      "cell_type": "markdown",
      "metadata": {
        "id": "haZjiwMvnuM1",
        "colab_type": "text"
      },
      "source": [
        "\n",
        "![Watersheds of the MS4 Sewershed](https://drive.google.com/uc?id=17CCTEtrJW8YchqNcAUUjXjwAdNyU3p8F)\n",
        "---\n",
        "\n"
      ]
    },
    {
      "cell_type": "markdown",
      "metadata": {
        "id": "oDLldwQen7dM",
        "colab_type": "text"
      },
      "source": [
        "### *3. Visualizing the political geography of suitable development*\n",
        "\n",
        "While urban runoff pollution is sourced throughout Washington DC, it is important that impactful developments are distributed throughout the city and that the investments also reach poorer communities. \n",
        "\n",
        "Display the Census Tracts of the MS4 sewershed by using the Median income of each tract as the classifier of symbology. "
      ]
    },
    {
      "cell_type": "markdown",
      "metadata": {
        "id": "PflvtW5WqYax",
        "colab_type": "text"
      },
      "source": [
        "![Census Tracts of MS4 by Median Income](https://drive.google.com/uc?id=1qCvrgPfBIVkOpKtMlkgIXofOQKW32TOm)"
      ]
    },
    {
      "cell_type": "markdown",
      "metadata": {
        "id": "3t_q1xlDMMyu",
        "colab_type": "text"
      },
      "source": [
        "###*4. Visualizing the current Green Infrastructure of Washington DC*\n",
        "Throughout Washington DC there are many examples of Green Infrastructure implemented either by the city of Washington or by citizens taking advantage of incentive programs offered by the DC Department of Energy and Environment. This display demonstrates the relative distribution of Green Infrastructure. "
      ]
    },
    {
      "cell_type": "markdown",
      "metadata": {
        "id": "W4t0npqZNjFK",
        "colab_type": "text"
      },
      "source": [
        "\n",
        "![Distribution of Green Infrastructure by Ward](https://drive.google.com/uc?id=1atlaF6RqDisJv_4eyfHA8J1nKGnZ0_Ye)"
      ]
    },
    {
      "cell_type": "markdown",
      "metadata": {
        "id": "w0Dvdf9Z0Gme",
        "colab_type": "text"
      },
      "source": [
        "###*5. MCE Identifying Priority Area for Stormwater Management per Census Tract in Washington, D.C.*\n",
        "Lastly, this map is the product of our analysis. It visualizes the results of the MCE score which was based on sewershed, watershed, and DC ward. MCE scores are classified into three groups. The lowest group (pale yellow), scaling between 0.17 to 0.38, represents areas within the Potomac watershed, wards 1 or 2, and may or may not fall within the MS4 sewershed. The middle ranking (orange), ranging between 0.38 and 0.72, signifies areas from a part of all watersheds, wards 3, 4, 5, and 6; and/or regions that may or may not fall within the MS4 sewershed. And finally, the highest scoring group (red) has scores between 0.72 and 1. This region highlights areas mostly within wards 7 and 8 (some from wards 4, 5, and 6); Anacostia Watershed and some from Rock Creek, and. To better interpret the impact of MCE scores on geographical analysis, it may be beneficial to classify scores into more groups. However, for the purpose of visual interpretation, it was better to delineated the scores into three groups."
      ]
    },
    {
      "cell_type": "markdown",
      "metadata": {
        "id": "WPN2GIIYp2Rk",
        "colab_type": "text"
      },
      "source": [
        "![MCE of Suitable Areas for Managing Stormwater Runoff](https://drive.google.com/uc?id=1t6UZ9UlO7FKFl2SEw8rW0R6Eb507nP8x)"
      ]
    }
  ]
}
